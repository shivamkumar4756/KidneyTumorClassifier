{
 "cells": [
  {
   "cell_type": "code",
   "execution_count": 1,
   "metadata": {},
   "outputs": [],
   "source": [
    "import os"
   ]
  },
  {
   "cell_type": "code",
   "execution_count": 2,
   "metadata": {},
   "outputs": [
    {
     "data": {
      "text/plain": [
       "'d:\\\\Data Science\\\\Deep_Learning_Projects\\\\Kidney_Tumor_Disease_Classification\\\\research'"
      ]
     },
     "execution_count": 2,
     "metadata": {},
     "output_type": "execute_result"
    }
   ],
   "source": [
    "%pwd"
   ]
  },
  {
   "cell_type": "code",
   "execution_count": 3,
   "metadata": {},
   "outputs": [],
   "source": [
    "os.chdir(\"../\")"
   ]
  },
  {
   "cell_type": "code",
   "execution_count": 4,
   "metadata": {},
   "outputs": [
    {
     "data": {
      "text/plain": [
       "'d:\\\\Data Science\\\\Deep_Learning_Projects\\\\Kidney_Tumor_Disease_Classification'"
      ]
     },
     "execution_count": 4,
     "metadata": {},
     "output_type": "execute_result"
    }
   ],
   "source": [
    "%pwd"
   ]
  },
  {
   "cell_type": "code",
   "execution_count": 2,
   "metadata": {},
   "outputs": [],
   "source": [
    "from dataclasses import dataclass\n",
    "from pathlib import Path\n",
    "\n",
    "\n",
    "@dataclass(frozen=True)\n",
    "class TrainingConfig:\n",
    "    root_dir: Path\n",
    "    trained_model_path: Path\n",
    "    updated_base_model_path: Path\n",
    "    training_data: Path\n",
    "    params_epochs: int\n",
    "    params_batch_size: int\n",
    "    params_is_augmentation: bool\n",
    "    params_image_size: list"
   ]
  },
  {
   "cell_type": "code",
   "execution_count": 3,
   "metadata": {},
   "outputs": [],
   "source": [
    "from cnnClassifier.constants import *\n",
    "from cnnClassifier.utils.common import read_yaml, create_directories"
   ]
  },
  {
   "cell_type": "code",
   "execution_count": 4,
   "metadata": {},
   "outputs": [],
   "source": [
    "class ConfigurationManager:\n",
    "    def __init__(\n",
    "        self,\n",
    "        config_filepath = CONFIG_FILE_PATH,\n",
    "        params_filepath = PARAMS_FILE_PATH):\n",
    "\n",
    "        self.config = read_yaml(config_filepath)\n",
    "        self.params = read_yaml(params_filepath)\n",
    "\n",
    "        create_directories([self.config.artifacts_root])\n",
    "\n",
    "\n",
    "    \n",
    "    def get_training_config(self) -> TrainingConfig:\n",
    "        training = self.config.training\n",
    "        prepare_base_model = self.config.prepare_base_model\n",
    "        params = self.params\n",
    "        training_data = os.path.join(self.config.data_ingestion.unzip_dir, \"kidney-ct-scan-images\")\n",
    "        create_directories([\n",
    "            Path(training.root_dir)\n",
    "        ])\n",
    "\n",
    "        training_config = TrainingConfig(\n",
    "            root_dir=Path(training.root_dir),\n",
    "            trained_model_path=Path(training.trained_model_path),\n",
    "            updated_base_model_path=Path(prepare_base_model.updated_base_model_path),\n",
    "            training_data=Path(training_data),\n",
    "            params_epochs=params.EPOCHS,\n",
    "            params_batch_size=params.BATCH_SIZE,\n",
    "            params_is_augmentation=params.AUGMENTATION,\n",
    "            params_image_size=params.IMAGE_SIZE\n",
    "        )\n",
    "\n",
    "        return training_config"
   ]
  },
  {
   "cell_type": "code",
   "execution_count": 5,
   "metadata": {},
   "outputs": [],
   "source": [
    "import os\n",
    "import urllib.request as request\n",
    "from zipfile import ZipFile\n",
    "import tensorflow as tf\n",
    "import time\n",
    "from tensorflow.keras.callbacks import EarlyStopping\n"
   ]
  },
  {
   "cell_type": "code",
   "execution_count": 9,
   "metadata": {},
   "outputs": [],
   "source": [
    "class Training:\n",
    "    def __init__(self, config: TrainingConfig):\n",
    "        self.config = config\n",
    "\n",
    "    \n",
    "    def get_base_model(self):\n",
    "        self.model = tf.keras.models.load_model(\n",
    "            self.config.updated_base_model_path\n",
    "        )\n",
    "\n",
    "    def train_valid_generator(self):\n",
    "\n",
    "        datagenerator_kwargs = dict(\n",
    "            rescale = 1./255,\n",
    "            validation_split=0.20\n",
    "        )\n",
    "\n",
    "        dataflow_kwargs = dict(\n",
    "            target_size=self.config.params_image_size[:-1],\n",
    "            batch_size=self.config.params_batch_size,\n",
    "            interpolation=\"bilinear\"\n",
    "        )\n",
    "\n",
    "        valid_datagenerator = tf.keras.preprocessing.image.ImageDataGenerator(\n",
    "            **datagenerator_kwargs\n",
    "        )\n",
    "\n",
    "        self.valid_generator = valid_datagenerator.flow_from_directory(\n",
    "            directory=self.config.training_data,\n",
    "            subset=\"validation\",\n",
    "            shuffle=False,\n",
    "            **dataflow_kwargs\n",
    "        )\n",
    "\n",
    "        if self.config.params_is_augmentation:\n",
    "            train_datagenerator = tf.keras.preprocessing.image.ImageDataGenerator(\n",
    "                rotation_range=40,\n",
    "                horizontal_flip=True,\n",
    "                width_shift_range=0.2,\n",
    "                height_shift_range=0.2,\n",
    "                shear_range=0.2,\n",
    "                zoom_range=0.2,\n",
    "                **datagenerator_kwargs\n",
    "            )\n",
    "        else:\n",
    "            train_datagenerator = valid_datagenerator\n",
    "\n",
    "        self.train_generator = train_datagenerator.flow_from_directory(\n",
    "            directory=self.config.training_data,\n",
    "            subset=\"training\",\n",
    "            shuffle=True,\n",
    "            **dataflow_kwargs\n",
    "        )\n",
    "\n",
    "    \n",
    "    @staticmethod\n",
    "    def save_model(path: Path, model: tf.keras.Model):\n",
    "        model.save(path)\n",
    "\n",
    "\n",
    "\n",
    "    \n",
    "    def train(self):\n",
    "        self.steps_per_epoch = self.train_generator.samples // self.train_generator.batch_size\n",
    "        self.validation_steps = self.valid_generator.samples // self.valid_generator.batch_size\n",
    "\n",
    "        early_stopping = EarlyStopping(monitor=\"val_loss\", patience=5, restore_best_weights=True)\n",
    "\n",
    "        self.model.fit(\n",
    "            self.train_generator,\n",
    "            epochs=self.config.params_epochs,\n",
    "            steps_per_epoch=self.steps_per_epoch,\n",
    "            validation_steps=self.validation_steps,\n",
    "            validation_data=self.valid_generator,\n",
    "            callbacks=[early_stopping]\n",
    "        )\n",
    "\n",
    "        self.save_model(\n",
    "            path=self.config.trained_model_path,\n",
    "            model=self.model\n",
    "        )"
   ]
  },
  {
   "cell_type": "code",
   "execution_count": 10,
   "metadata": {},
   "outputs": [
    {
     "name": "stdout",
     "output_type": "stream",
     "text": [
      "[2025-02-15 15:14:57,968: INFO: common: yaml file: config\\config.yaml loaded successfully]\n",
      "[2025-02-15 15:14:57,971: INFO: common: yaml file: params.yaml loaded successfully]\n",
      "[2025-02-15 15:14:57,973: INFO: common: created directory at: artifacts]\n",
      "[2025-02-15 15:14:57,975: INFO: common: created directory at: artifacts\\training]\n",
      "Found 2647 images belonging to 2 classes.\n",
      "Found 10591 images belonging to 2 classes.\n",
      "Epoch 1/30\n",
      "330/330 [==============================] - 105s 292ms/step - loss: 0.4584 - accuracy: 0.7844 - val_loss: 0.3887 - val_accuracy: 0.8392\n",
      "Epoch 2/30\n",
      "330/330 [==============================] - 104s 313ms/step - loss: 0.3160 - accuracy: 0.8808 - val_loss: 0.2913 - val_accuracy: 0.8742\n",
      "Epoch 3/30\n",
      "330/330 [==============================] - 107s 324ms/step - loss: 0.2637 - accuracy: 0.9043 - val_loss: 0.2385 - val_accuracy: 0.9097\n",
      "Epoch 4/30\n",
      "330/330 [==============================] - 108s 326ms/step - loss: 0.2310 - accuracy: 0.9186 - val_loss: 0.2262 - val_accuracy: 0.9123\n",
      "Epoch 5/30\n",
      "330/330 [==============================] - 107s 323ms/step - loss: 0.2126 - accuracy: 0.9240 - val_loss: 0.1929 - val_accuracy: 0.9470\n",
      "Epoch 6/30\n",
      "330/330 [==============================] - 118s 359ms/step - loss: 0.1952 - accuracy: 0.9343 - val_loss: 0.1603 - val_accuracy: 0.9539\n",
      "Epoch 7/30\n",
      "330/330 [==============================] - 107s 324ms/step - loss: 0.1852 - accuracy: 0.9340 - val_loss: 0.1613 - val_accuracy: 0.9478\n",
      "Epoch 8/30\n",
      "330/330 [==============================] - 107s 323ms/step - loss: 0.1706 - accuracy: 0.9417 - val_loss: 0.1652 - val_accuracy: 0.9531\n",
      "Epoch 9/30\n",
      "330/330 [==============================] - 108s 325ms/step - loss: 0.1661 - accuracy: 0.9432 - val_loss: 0.1486 - val_accuracy: 0.9581\n",
      "Epoch 10/30\n",
      "330/330 [==============================] - 106s 320ms/step - loss: 0.1556 - accuracy: 0.9460 - val_loss: 0.1485 - val_accuracy: 0.9604\n",
      "Epoch 11/30\n",
      "330/330 [==============================] - 106s 321ms/step - loss: 0.1508 - accuracy: 0.9475 - val_loss: 0.1467 - val_accuracy: 0.9432\n",
      "Epoch 12/30\n",
      "330/330 [==============================] - 106s 320ms/step - loss: 0.1492 - accuracy: 0.9483 - val_loss: 0.1209 - val_accuracy: 0.9688\n",
      "Epoch 13/30\n",
      "330/330 [==============================] - 106s 322ms/step - loss: 0.1358 - accuracy: 0.9566 - val_loss: 0.1168 - val_accuracy: 0.9668\n",
      "Epoch 14/30\n",
      "330/330 [==============================] - 109s 330ms/step - loss: 0.1375 - accuracy: 0.9541 - val_loss: 0.1198 - val_accuracy: 0.9646\n",
      "Epoch 15/30\n",
      "330/330 [==============================] - 106s 321ms/step - loss: 0.1291 - accuracy: 0.9586 - val_loss: 0.1136 - val_accuracy: 0.9695\n",
      "Epoch 16/30\n",
      "330/330 [==============================] - 106s 321ms/step - loss: 0.1303 - accuracy: 0.9554 - val_loss: 0.1096 - val_accuracy: 0.9714\n",
      "Epoch 17/30\n",
      "330/330 [==============================] - 106s 321ms/step - loss: 0.1265 - accuracy: 0.9580 - val_loss: 0.1060 - val_accuracy: 0.9729\n",
      "Epoch 18/30\n",
      "330/330 [==============================] - 106s 320ms/step - loss: 0.1229 - accuracy: 0.9580 - val_loss: 0.1029 - val_accuracy: 0.9771\n",
      "Epoch 19/30\n",
      "330/330 [==============================] - 106s 320ms/step - loss: 0.1197 - accuracy: 0.9587 - val_loss: 0.1220 - val_accuracy: 0.9642\n",
      "Epoch 20/30\n",
      "330/330 [==============================] - 105s 319ms/step - loss: 0.1126 - accuracy: 0.9632 - val_loss: 0.1023 - val_accuracy: 0.9737\n",
      "Epoch 21/30\n",
      "330/330 [==============================] - 105s 319ms/step - loss: 0.1130 - accuracy: 0.9613 - val_loss: 0.0940 - val_accuracy: 0.9745\n",
      "Epoch 22/30\n",
      "330/330 [==============================] - 105s 317ms/step - loss: 0.1173 - accuracy: 0.9595 - val_loss: 0.0928 - val_accuracy: 0.9809\n",
      "Epoch 23/30\n",
      "330/330 [==============================] - 106s 321ms/step - loss: 0.1065 - accuracy: 0.9635 - val_loss: 0.0884 - val_accuracy: 0.9802\n",
      "Epoch 24/30\n",
      "330/330 [==============================] - 106s 320ms/step - loss: 0.1035 - accuracy: 0.9656 - val_loss: 0.1077 - val_accuracy: 0.9691\n",
      "Epoch 25/30\n",
      "330/330 [==============================] - 106s 320ms/step - loss: 0.1015 - accuracy: 0.9664 - val_loss: 0.0843 - val_accuracy: 0.9764\n",
      "Epoch 26/30\n",
      "330/330 [==============================] - 106s 320ms/step - loss: 0.1049 - accuracy: 0.9653 - val_loss: 0.0920 - val_accuracy: 0.9764\n",
      "Epoch 27/30\n",
      "330/330 [==============================] - 106s 321ms/step - loss: 0.0996 - accuracy: 0.9686 - val_loss: 0.0836 - val_accuracy: 0.9806\n",
      "Epoch 28/30\n",
      "330/330 [==============================] - 105s 319ms/step - loss: 0.0961 - accuracy: 0.9678 - val_loss: 0.0841 - val_accuracy: 0.9790\n",
      "Epoch 29/30\n",
      "330/330 [==============================] - 106s 320ms/step - loss: 0.0939 - accuracy: 0.9685 - val_loss: 0.0906 - val_accuracy: 0.9748\n",
      "Epoch 30/30\n",
      "330/330 [==============================] - 108s 328ms/step - loss: 0.0952 - accuracy: 0.9700 - val_loss: 0.0840 - val_accuracy: 0.9790\n"
     ]
    }
   ],
   "source": [
    "try:\n",
    "    config = ConfigurationManager()\n",
    "    training_config = config.get_training_config()\n",
    "    training = Training(config=training_config)\n",
    "    training.get_base_model()\n",
    "    training.train_valid_generator()\n",
    "    training.train()\n",
    "    \n",
    "except Exception as e:\n",
    "    raise e"
   ]
  },
  {
   "cell_type": "code",
   "execution_count": null,
   "metadata": {},
   "outputs": [],
   "source": []
  }
 ],
 "metadata": {
  "kernelspec": {
   "display_name": "Python 3",
   "language": "python",
   "name": "python3"
  },
  "language_info": {
   "codemirror_mode": {
    "name": "ipython",
    "version": 3
   },
   "file_extension": ".py",
   "mimetype": "text/x-python",
   "name": "python",
   "nbconvert_exporter": "python",
   "pygments_lexer": "ipython3",
   "version": "3.8.15"
  }
 },
 "nbformat": 4,
 "nbformat_minor": 2
}
